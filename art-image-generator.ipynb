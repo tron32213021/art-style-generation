{
 "cells": [
  {
   "cell_type": "code",
   "execution_count": 4,
   "metadata": {},
   "outputs": [],
   "source": [
    "import scipy.misc\n",
    "import scipy.io\n",
    "import matplotlib.pyplot as plt\n",
    "import numpy as np\n",
    "import tensorflow as tf\n",
    "\n",
    "from nst_utils import * \n",
    "\n",
    "%matplotlib inline"
   ]
  },
  {
   "cell_type": "code",
   "execution_count": 16,
   "metadata": {},
   "outputs": [],
   "source": [
    "def compute_content_cost(sess,model,layer):\n",
    "    content_I=sess.run(model[layer])\n",
    "    generated_I=model[layer]\n",
    "    J=0.25*tf.reduce_mean((content_I-generated_I)**2)\n",
    "    return J\n",
    "\n",
    "def compute_single_style_cost(contentDst,contentSrc):\n",
    "    _, n_H, n_W, n_C = contentSrc.get_shape().as_list()\n",
    "    dst=tf.reshape(contentDst,[n_H*n_W,n_C])\n",
    "    src=tf.reshape(contentSrc,[n_H*n_W,n_C])\n",
    "    R_dst=tf.matmul(tf.transpose(dst),dst)\n",
    "    R_src=tf.matmul(tf.transpose(src),src)\n",
    "    J=tf.reduce_sum((R_dst-R_src)**2)/(2*n_H*n_W*n_C)**2\n",
    "    return J\n",
    "\n",
    "def compute_style_cost(sess,model,layers):\n",
    "    J=0\n",
    "    for name,weight in layers:\n",
    "        style_I=sess.run(model[name])\n",
    "        generated_I=model[name]\n",
    "        J+= weight*compute_single_style_cost(style_I,generated_I)\n",
    "    return J\n",
    "\n",
    "def compute_total_cost(J_content,J_style,alpha,beta):\n",
    "    return alpha*J_content+beta*J_style\n",
    "\n",
    "\n",
    "    \n",
    "    "
   ]
  },
  {
   "cell_type": "code",
   "execution_count": 14,
   "metadata": {},
   "outputs": [
    {
     "name": "stderr",
     "output_type": "stream",
     "text": [
      "d:\\Users\\dell\\Anaconda3\\lib\\site-packages\\tensorflow\\python\\client\\session.py:1711: UserWarning: An interactive session is already active. This can cause out-of-memory errors in some cases. You must explicitly call `InteractiveSession.close()` to release resources held by the other session(s).\n",
      "  warnings.warn('An interactive session is already active. This can '\n"
     ]
    },
    {
     "name": "stdout",
     "output_type": "stream",
     "text": [
      "(1, 300, 400, 3)\n",
      "(1, 300, 400, 3)\n",
      "(1, 300, 400, 3)\n"
     ]
    },
    {
     "name": "stderr",
     "output_type": "stream",
     "text": [
      "d:\\Users\\dell\\Anaconda3\\lib\\site-packages\\ipykernel_launcher.py:4: DeprecationWarning: `imread` is deprecated!\n",
      "`imread` is deprecated in SciPy 1.0.0, and will be removed in 1.2.0.\n",
      "Use ``imageio.imread`` instead.\n",
      "  after removing the cwd from sys.path.\n",
      "d:\\Users\\dell\\Anaconda3\\lib\\site-packages\\ipykernel_launcher.py:7: DeprecationWarning: `imread` is deprecated!\n",
      "`imread` is deprecated in SciPy 1.0.0, and will be removed in 1.2.0.\n",
      "Use ``imageio.imread`` instead.\n",
      "  import sys\n"
     ]
    }
   ],
   "source": [
    "tf.reset_default_graph()\n",
    "sess = tf.InteractiveSession()\n",
    "\n",
    "model = load_vgg_model(\"pretrained-model/imagenet-vgg-verydeep-19.mat\")\n",
    "content_image = scipy.misc.imread(\"images/louvre_small.jpg\")\n",
    "content_image = reshape_and_normalize_image(content_image)\n",
    "print(content_image.shape)\n",
    "style_image = scipy.misc.imread(\"images/monet.jpg\")\n",
    "style_image = reshape_and_normalize_image(style_image)\n",
    "print(style_image.shape)\n",
    "generated_image = generate_noise_image(content_image)\n",
    "print(generated_image.shape)"
   ]
  },
  {
   "cell_type": "code",
   "execution_count": 20,
   "metadata": {},
   "outputs": [],
   "source": [
    "sess.run(model['input'].assign(content_image))\n",
    "J_content=compute_content_cost(sess,model,'conv4_2')\n",
    "\n",
    "sess.run(model['input'].assign(style_image))\n",
    "layers = [\n",
    "    ('conv1_1', 0.2),\n",
    "    ('conv2_1', 0.2),\n",
    "    ('conv3_1', 0.2),\n",
    "    ('conv4_1', 0.2),\n",
    "    ('conv5_1', 0.2)]\n",
    "J_style=compute_style_cost(sess,model,layers)\n",
    "J=compute_total_cost(J_content,J_style,10,20)\n",
    "\n",
    "optimizer = tf.train.AdamOptimizer(2.0)\n",
    "train_op=optimizer.minimize(J)"
   ]
  },
  {
   "cell_type": "code",
   "execution_count": 21,
   "metadata": {},
   "outputs": [],
   "source": [
    "def train_model(sess,input_image,num_iter=200):\n",
    "    sess.run(tf.global_variables_initializer())\n",
    "    sess.run(model['input'].assign(input_image))\n",
    "    \n",
    "    for i in range(num_iter):\n",
    "        sess.run(train_op)\n",
    "        generated_image = sess.run(model['input'])\n",
    "        if i%20 == 0:\n",
    "            Jt, Jc, Js = sess.run([J, J_content, J_style])\n",
    "            print(\"Iteration \" + str(i) + \" :\")\n",
    "            print(\"total cost = \" + str(Jt))\n",
    "            print(\"content cost = \" + str(Jc))\n",
    "            print(\"style cost = \" + str(Js))\n",
    "            save_image(\"output/\" + str(i) + \".png\", generated_image)\n",
    "    save_image('output/generated_image.jpg', generated_image)\n",
    "    return generated_image"
   ]
  },
  {
   "cell_type": "code",
   "execution_count": 22,
   "metadata": {},
   "outputs": [
    {
     "name": "stdout",
     "output_type": "stream",
     "text": [
      "Iteration 0 :\n",
      "total cost = 2534359800.0\n",
      "content cost = 7919.0483\n",
      "style cost = 126714030.0\n",
      "Iteration 20 :\n",
      "total cost = 473896450.0\n",
      "content cost = 15247.318\n",
      "style cost = 23687198.0\n",
      "Iteration 40 :\n",
      "total cost = 243137340.0\n",
      "content cost = 16756.848\n",
      "style cost = 12148489.0\n",
      "Iteration 60 :\n",
      "total cost = 158345870.0\n",
      "content cost = 17459.568\n",
      "style cost = 7908564.0\n",
      "Iteration 80 :\n",
      "total cost = 116863580.0\n",
      "content cost = 17764.785\n",
      "style cost = 5834297.0\n",
      "Iteration 100 :\n",
      "total cost = 93018696.0\n",
      "content cost = 18022.463\n",
      "style cost = 4641923.5\n",
      "Iteration 120 :\n",
      "total cost = 77290330.0\n",
      "content cost = 18243.812\n",
      "style cost = 3855394.5\n",
      "Iteration 140 :\n",
      "total cost = 65919360.0\n",
      "content cost = 18388.842\n",
      "style cost = 3286773.5\n",
      "Iteration 160 :\n",
      "total cost = 57163844.0\n",
      "content cost = 18504.707\n",
      "style cost = 2848939.8\n",
      "Iteration 180 :\n",
      "total cost = 50283600.0\n",
      "content cost = 18623.188\n",
      "style cost = 2504868.5\n"
     ]
    },
    {
     "data": {
      "text/plain": [
       "array([[[[ -19.62501   ,  -28.33849   ,   18.568626  ],\n",
       "         [ -12.1398735 ,  -41.11242   ,   18.823547  ],\n",
       "         [ -12.810609  ,  -46.72897   ,    9.501727  ],\n",
       "         ...,\n",
       "         [ -18.688385  ,  -39.155567  ,    6.1682076 ],\n",
       "         [ -20.637672  ,  -20.407604  ,   15.410741  ],\n",
       "         [ -26.01847   ,  -27.456268  ,   10.056149  ]],\n",
       "\n",
       "        [[ -46.131184  ,  -65.87976   ,  -20.294115  ],\n",
       "         [ -50.537144  ,  -38.507336  ,  -12.715837  ],\n",
       "         [ -31.69999   ,  -48.70993   ,  -26.394997  ],\n",
       "         ...,\n",
       "         [ -19.160255  ,  -37.85635   ,    1.5577611 ],\n",
       "         [ -35.121815  ,  -63.264805  ,   14.420129  ],\n",
       "         [ -40.003174  ,  -72.3035    ,   16.728476  ]],\n",
       "\n",
       "        [[ -62.120274  ,  -75.07994   ,  -63.44629   ],\n",
       "         [ -44.424698  ,  -56.378136  ,  -24.05177   ],\n",
       "         [ -34.13938   ,  -55.166622  ,  -50.319424  ],\n",
       "         ...,\n",
       "         [ -29.739195  ,  -50.237865  ,  -12.106047  ],\n",
       "         [ -23.49479   ,  -44.740005  ,   -7.220371  ],\n",
       "         [ -41.845383  ,  -68.900665  ,   17.376345  ]],\n",
       "\n",
       "        ...,\n",
       "\n",
       "        [[ -46.295193  ,  -26.75167   ,   -5.2490005 ],\n",
       "         [ -70.39969   ,  -46.99204   , -105.418304  ],\n",
       "         [ -52.16484   ,   -4.451273  ,  -37.16565   ],\n",
       "         ...,\n",
       "         [ -38.49755   ,  -36.086678  ,  -30.101055  ],\n",
       "         [ -54.017235  ,  -33.57225   ,   -6.993976  ],\n",
       "         [ -30.251606  ,   -1.2241988 ,   42.003586  ]],\n",
       "\n",
       "        [[ -75.49565   ,  -65.94639   ,    5.9297876 ],\n",
       "         [ -72.35452   ,  -69.63869   ,  -78.057556  ],\n",
       "         [ -47.028965  ,  -46.66284   ,  -13.857185  ],\n",
       "         ...,\n",
       "         [ -57.700344  ,  -66.51858   ,  -81.46974   ],\n",
       "         [ -55.471077  ,  -63.8759    ,  -46.73269   ],\n",
       "         [ -54.648293  ,   -9.673462  ,   19.870388  ]],\n",
       "\n",
       "        [[ -11.604404  ,  -67.07607   ,   35.529472  ],\n",
       "         [ -69.13078   ,  -62.840252  ,   37.2509    ],\n",
       "         [  -0.89687335,  -29.10487   ,   19.287985  ],\n",
       "         ...,\n",
       "         [ -94.11917   ,  -70.14209   , -105.97383   ],\n",
       "         [-104.297516  ,  -68.74538   ,  -57.18472   ],\n",
       "         [ -53.56556   ,  -22.06552   ,   10.18006   ]]]], dtype=float32)"
      ]
     },
     "execution_count": 22,
     "metadata": {},
     "output_type": "execute_result"
    }
   ],
   "source": [
    "train_model(sess,generated_image)"
   ]
  },
  {
   "cell_type": "code",
   "execution_count": null,
   "metadata": {},
   "outputs": [],
   "source": []
  }
 ],
 "metadata": {
  "kernelspec": {
   "display_name": "Python 3",
   "language": "python",
   "name": "python3"
  },
  "language_info": {
   "codemirror_mode": {
    "name": "ipython",
    "version": 3
   },
   "file_extension": ".py",
   "mimetype": "text/x-python",
   "name": "python",
   "nbconvert_exporter": "python",
   "pygments_lexer": "ipython3",
   "version": "3.6.5"
  }
 },
 "nbformat": 4,
 "nbformat_minor": 2
}
